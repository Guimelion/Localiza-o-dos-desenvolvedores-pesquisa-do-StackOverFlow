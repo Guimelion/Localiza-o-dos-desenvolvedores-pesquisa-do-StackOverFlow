{
 "cells": [
  {
   "cell_type": "code",
   "execution_count": 102,
   "id": "b7169297",
   "metadata": {},
   "outputs": [],
   "source": [
    "import csv\n",
    "from plotly.graph_objs import Bar\n",
    "from plotly import offline"
   ]
  },
  {
   "cell_type": "markdown",
   "id": "6ba64dbf",
   "metadata": {},
   "source": [
    "Aqui abri o arquivo da pesquisa anual feita pelo stackoverflow"
   ]
  },
  {
   "cell_type": "code",
   "execution_count": 108,
   "id": "0bee1022",
   "metadata": {},
   "outputs": [],
   "source": [
    "with open('survey_results_public.csv','r') as file:\n",
    "    reader = csv.reader(file)\n",
    "    header_row = next(reader)\n",
    "    #for index,columns in enumerate(header_row):#essa linha é para saber o indice da coluna e seu nome para eu poder localizar melhor o que eu quero\n",
    "       # print(index,columns)\n",
    "    data = {}\n",
    "    for row in reader:#aqui eu passo por todas as linhas e crio um dicionario para pegar todos os paises e a quantidade de vezes que ele aparece me retornando cada pais e quantidade de pessoas desenvolvedoras que participaram \n",
    "        data[row[3]]= data.get(row[3],0)+1     "
   ]
  },
  {
   "cell_type": "code",
   "execution_count": 104,
   "id": "c8b5653c",
   "metadata": {},
   "outputs": [],
   "source": [
    "country =sorted(data,key =  lambda x:data[x],reverse=True)#crio uma lista com todos paises ordenados pela quantidade de desenvolvedores do maior para o menor\n",
    "number = [data[i] for i in country]#crio outra lista para pegar apenas a quantidade de desenvolvedores"
   ]
  },
  {
   "cell_type": "markdown",
   "id": "47f08016",
   "metadata": {},
   "source": [
    "Aqui ploto os dados no Plotly dessa maneira passando os paises e a quantidade de desenvolvedores de cada um, achei o caso deixar apenas os 10 primeiros paises"
   ]
  },
  {
   "cell_type": "code",
   "execution_count": 105,
   "id": "879e3798",
   "metadata": {},
   "outputs": [
    {
     "data": {
      "text/plain": [
       "'desenvolvedores_distribuição.html'"
      ]
     },
     "execution_count": 105,
     "metadata": {},
     "output_type": "execute_result"
    }
   ],
   "source": [
    "data = [{\n",
    "    'type':'bar',\n",
    "    'x':country[:10],\n",
    "    'y':number[:10],\n",
    "}]\n",
    "my_layout = {\n",
    "    'title':'Distribuição dos desenvolvedores por país',\n",
    "    'xaxis':{'title':'País'},\n",
    "    'yaxis':{'title':'Número de desenvolvedores'}\n",
    "}\n",
    "fig = {'data':data,'layout':my_layout}\n",
    "offline.plot(fig,filename = 'desenvolvedores_distribuição.html')\n"
   ]
  }
 ],
 "metadata": {
  "kernelspec": {
   "display_name": "Python 3 (ipykernel)",
   "language": "python",
   "name": "python3"
  },
  "language_info": {
   "codemirror_mode": {
    "name": "ipython",
    "version": 3
   },
   "file_extension": ".py",
   "mimetype": "text/x-python",
   "name": "python",
   "nbconvert_exporter": "python",
   "pygments_lexer": "ipython3",
   "version": "3.9.12"
  }
 },
 "nbformat": 4,
 "nbformat_minor": 5
}
